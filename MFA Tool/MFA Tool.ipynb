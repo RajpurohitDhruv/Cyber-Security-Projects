{
 "cells": [
  {
   "cell_type": "code",
   "execution_count": 2,
   "id": "9f190c11",
   "metadata": {},
   "outputs": [
    {
     "name": "stdout",
     "output_type": "stream",
     "text": [
      " __  __ _____ _      _____           _ \n",
      "|  \\/  |  ___/ \\    |_   _|__   ___ | |\n",
      "| |\\/| | |_ / _ \\     | |/ _ \\ / _ \\| |\n",
      "| |  | |  _/ ___ \\    | | (_) | (_) | |\n",
      "|_|  |_|_|/_/   \\_\\   |_|\\___/ \\___/|_|\n",
      "                                       \n",
      "\n",
      "Enter your password: dark\n",
      "Authentication failed.\n"
     ]
    }
   ],
   "source": [
    "import random\n",
    "from pyfiglet import figlet_format \n",
    "class User:\n",
    "    def __init__(self, username, password):\n",
    "        self.username = username\n",
    "        self.password = password\n",
    "        self.is_authenticated = False\n",
    "        self.mfa_enabled = False\n",
    "        self.mfa_methods = []\n",
    "\n",
    "    def enable_mfa(self, methods):\n",
    "        self.mfa_enabled = True\n",
    "        self.mfa_methods = methods\n",
    "\n",
    "    def authenticate(self, entered_password):\n",
    "        if entered_password == self.password:\n",
    "            self.is_authenticated = True\n",
    "        else:\n",
    "            self.is_authenticated = False\n",
    "\n",
    "    def verify_mfa(self, entered_code):\n",
    "        return entered_code in self.mfa_methods\n",
    "\n",
    "def simulate_website_login(username, password, mfa_codes):\n",
    "    \n",
    "    users = {\n",
    "        \"dhruv\": User(\"dhruv\", \"dhruv\"),\n",
    "        \"dark phoenix\": User(\"dark phoenix\", \"dark\"),\n",
    "    }\n",
    "\n",
    "   \n",
    "    if username in users:\n",
    "        user = users[username]\n",
    "        print(figlet_format(\"MFA Tool\", font = \"standard\" ))\n",
    "        entered_password = input(\"Enter your password: \")\n",
    "        user.authenticate(entered_password)\n",
    "\n",
    "        if user.is_authenticated:\n",
    "            print(\"Authentication successful!\")\n",
    "            if user.mfa_enabled:\n",
    "                print(\"MFA methods enabled:\", user.mfa_methods)\n",
    "                for method in user.mfa_methods:\n",
    "                    if method == \"TOTP\":\n",
    "                        generated_code = random.randint(100000, 999999)\n",
    "                        print(f\"Generated TOTP code: {generated_code}\")\n",
    "                        entered_code = int(input(\"Enter the TOTP code: \"))\n",
    "                        if user.verify_mfa(entered_code):\n",
    "                            print(\"MFA authentication successful!\")\n",
    "                        else:\n",
    "                            print(\"MFA authentication failed.\")\n",
    "                            break\n",
    "            else:\n",
    "                print(\"No MFA methods enabled for this user.\")\n",
    "        else:\n",
    "            print(\"Authentication failed.\")\n",
    "    else:\n",
    "        print(\"User not found.\")\n",
    "\n",
    "john = User(\"dhruv\", \"dhruv\")\n",
    "john.enable_mfa([\"TOTP\", \"SMS\"])\n",
    "\n",
    "simulate_website_login(\"dhruv\", \"dhruv\", [\"TOTP\", \"SMS\"])\n"
   ]
  },
  {
   "cell_type": "code",
   "execution_count": null,
   "id": "d3dd075d",
   "metadata": {},
   "outputs": [],
   "source": []
  },
  {
   "cell_type": "code",
   "execution_count": null,
   "id": "900b8a73",
   "metadata": {},
   "outputs": [],
   "source": []
  },
  {
   "cell_type": "code",
   "execution_count": null,
   "id": "d152794b",
   "metadata": {},
   "outputs": [],
   "source": []
  }
 ],
 "metadata": {
  "kernelspec": {
   "display_name": "Python 3 (ipykernel)",
   "language": "python",
   "name": "python3"
  },
  "language_info": {
   "codemirror_mode": {
    "name": "ipython",
    "version": 3
   },
   "file_extension": ".py",
   "mimetype": "text/x-python",
   "name": "python",
   "nbconvert_exporter": "python",
   "pygments_lexer": "ipython3",
   "version": "3.11.3"
  }
 },
 "nbformat": 4,
 "nbformat_minor": 5
}
